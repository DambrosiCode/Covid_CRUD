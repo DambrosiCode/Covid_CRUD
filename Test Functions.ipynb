{
 "cells": [
  {
   "cell_type": "code",
   "execution_count": 2,
   "id": "8b6e54a3",
   "metadata": {},
   "outputs": [
    {
     "name": "stdout",
     "output_type": "stream",
     "text": [
      "[{'_id': 'a', 'change_type': 'deletion'}, {'_id': 2, 'change_type': 'deletion'}, {'_id': 1, 'change_type': 'insertion'}, {'_id': 3, 'change_type': 'modification'}, {'_id': 4, 'change_type': 'insertion'}]\n"
     ]
    }
   ],
   "source": [
    "import pandas as pd\n",
    "\n",
    "def identify_changes(original_df, editable_df):\n",
    "    changes = []\n",
    "\n",
    "    # Identify deletions\n",
    "    deleted_ids = set(original_df['_id']) - set(editable_df['_id'])\n",
    "    for _id in deleted_ids:\n",
    "        changes.append({'_id': _id, 'change_type': 'deletion'})\n",
    "\n",
    "    # Identify insertions and modifications\n",
    "    for _, row in editable_df.iterrows():\n",
    "        _id = row['_id']\n",
    "        original_row = original_df[original_df['_id'] == _id]\n",
    "\n",
    "        if original_row.empty:\n",
    "            changes.append({'_id': _id, 'change_type': 'insertion'})\n",
    "        elif not pd.Series.equals(row, original_row.iloc[0]):\n",
    "            changes.append({'_id': _id, 'change_type': 'modification'})\n",
    "\n",
    "    return changes\n",
    "\n",
    "# Example data\n",
    "original_data = {\n",
    "    '_id': ['a', 2, 3],\n",
    "    'name': ['Alice', 'Bob', 'Charlie'],\n",
    "    'age': [25, 30, 28]\n",
    "}\n",
    "\n",
    "editable_data = {\n",
    "    '_id': [1, 3, 4],\n",
    "    'name': ['Alice', 'David', 'Eve'],\n",
    "    'age': [25, 29, 27]\n",
    "}\n",
    "\n",
    "original_df = pd.DataFrame(original_data)\n",
    "editable_df = pd.DataFrame(editable_data)\n",
    "\n",
    "# Identify changes\n",
    "changes = identify_changes(original_df, editable_df)\n",
    "print(changes)\n"
   ]
  },
  {
   "cell_type": "code",
   "execution_count": 97,
   "id": "e595850c",
   "metadata": {},
   "outputs": [],
   "source": [
    "import pandas as pd\n",
    "csv_df = pd.DataFrame({'A':[1]})"
   ]
  },
  {
   "cell_type": "code",
   "execution_count": 100,
   "id": "43f5f63d",
   "metadata": {},
   "outputs": [
    {
     "ename": "TypeError",
     "evalue": "'RangeIndex' object is not callable",
     "output_type": "error",
     "traceback": [
      "\u001b[0;31m---------------------------------------------------------------------------\u001b[0m",
      "\u001b[0;31mTypeError\u001b[0m                                 Traceback (most recent call last)",
      "Cell \u001b[0;32mIn[100], line 1\u001b[0m\n\u001b[0;32m----> 1\u001b[0m csv_df\u001b[38;5;241m.\u001b[39mindex()\n",
      "\u001b[0;31mTypeError\u001b[0m: 'RangeIndex' object is not callable"
     ]
    }
   ],
   "source": [
    "csv_df.index()"
   ]
  },
  {
   "cell_type": "code",
   "execution_count": 9,
   "id": "06433f3b",
   "metadata": {},
   "outputs": [
    {
     "name": "stdout",
     "output_type": "stream",
     "text": [
      "64f0b3f56c566db5056f6fe0\n",
      "['64f0b3f56c566db5056f6fe1', '64f0b3f56c566db5056f6fe2', '64f0b3f56c566db5056f6fe3', '64f0b3f56c566db5056f6fe4']\n"
     ]
    },
    {
     "data": {
      "text/html": [
       "<div>\n",
       "<style scoped>\n",
       "    .dataframe tbody tr th:only-of-type {\n",
       "        vertical-align: middle;\n",
       "    }\n",
       "\n",
       "    .dataframe tbody tr th {\n",
       "        vertical-align: top;\n",
       "    }\n",
       "\n",
       "    .dataframe thead th {\n",
       "        text-align: right;\n",
       "    }\n",
       "</style>\n",
       "<table border=\"1\" class=\"dataframe\">\n",
       "  <thead>\n",
       "    <tr style=\"text-align: right;\">\n",
       "      <th></th>\n",
       "      <th>A</th>\n",
       "      <th>_id</th>\n",
       "    </tr>\n",
       "  </thead>\n",
       "  <tbody>\n",
       "    <tr>\n",
       "      <th>0</th>\n",
       "      <td>1</td>\n",
       "      <td>64f0b3f56c566db5056f6fe1</td>\n",
       "    </tr>\n",
       "    <tr>\n",
       "      <th>1</th>\n",
       "      <td>2</td>\n",
       "      <td>64f0b3f56c566db5056f6fe2</td>\n",
       "    </tr>\n",
       "    <tr>\n",
       "      <th>2</th>\n",
       "      <td>3</td>\n",
       "      <td>64f0b3f56c566db5056f6fe3</td>\n",
       "    </tr>\n",
       "    <tr>\n",
       "      <th>3</th>\n",
       "      <td>4</td>\n",
       "      <td>64f0b3f56c566db5056f6fe4</td>\n",
       "    </tr>\n",
       "  </tbody>\n",
       "</table>\n",
       "</div>"
      ],
      "text/plain": [
       "   A                       _id\n",
       "0  1  64f0b3f56c566db5056f6fe1\n",
       "1  2  64f0b3f56c566db5056f6fe2\n",
       "2  3  64f0b3f56c566db5056f6fe3\n",
       "3  4  64f0b3f56c566db5056f6fe4"
      ]
     },
     "execution_count": 9,
     "metadata": {},
     "output_type": "execute_result"
    }
   ],
   "source": [
    "from bson import ObjectId\n",
    "print(ObjectId())\n",
    "\n",
    "\n",
    "new_ids = [str(ObjectId()) for x in csv_df.index]\n",
    "print(new_ids)\n",
    "csv_df['_id'] = new_ids\n",
    "\n",
    "csv_df"
   ]
  },
  {
   "cell_type": "code",
   "execution_count": 42,
   "id": "7951f574",
   "metadata": {},
   "outputs": [
    {
     "data": {
      "text/plain": [
       "<re.Match object; span=(0, 10), match='2020-20-02'>"
      ]
     },
     "execution_count": 42,
     "metadata": {},
     "output_type": "execute_result"
    }
   ],
   "source": [
    "pattern = r'^\\d{4}-\\d{2}-\\d{2}$'\n",
    "re.match(pattern, '2020-20-02')"
   ]
  },
  {
   "cell_type": "code",
   "execution_count": 134,
   "id": "12b51836",
   "metadata": {},
   "outputs": [],
   "source": [
    "import re\n",
    "\n",
    "test_df = pd.read_csv(\"/home/matt/Documents/Projects/Kaggle/target_tables/8_risk_factors/Age.csv\")\n",
    "test_df.columns = test_df.columns.str.replace(' ','_')\n",
    "def data_validation(df):\n",
    "    errors = []\n",
    "\n",
    "    # validation schema\n",
    "    date_r = r'^\\d{4}-\\d{2}-\\d{2}$'\n",
    "    link_r = r'^http.*$'\n",
    "    Sample_Size_r = int\n",
    "    Critical_only_r = ['Y', 'N', '']\n",
    "    Discharged_vs_death_r = ['Y', 'N', '']\n",
    "\n",
    "    for index in df['Unnamed:_0']:\n",
    "        row = df[df['Unnamed:_0']==index]\n",
    "        # validate date\n",
    "\n",
    "        if re.match(date_r, str(row['Date'].values[0])) is None:\n",
    "            errors.append('index: ' + str(index) + \" Date: YYYY-MM-dd\")\n",
    "        # validate Study Link\n",
    "        if re.match(link_r, str(row.Study_Link)) is None:\n",
    "            errors.append('index: ' + str(index) + ' Study Link: http(s) link')\n",
    "\n",
    "            # validate Sample Size\n",
    "        if str(row.Sample_Size) is not Sample_Size_r:\n",
    "            errors.append('index: ' + str(index) + ' Sample Size: int')\n",
    "\n",
    "\n",
    "            # validate Critical Only\n",
    "        if str(row.Critical_only) not in Critical_only_r:\n",
    "            errors.append('index: ' + str(index) + ' Critical Only: \"Y/N/''\"')\n",
    "\n",
    "            # validate Discharged vs death\n",
    "        if str(row['Discharged_vs._death?']) not in Discharged_vs_death_r:\n",
    "            errors.append('index: ' + str(index) + ' Discharged_vs._death?: \"Y/N/''\"')\n",
    "\n",
    "\n",
    "\n",
    "\n",
    "            data_validation(test_df)\n",
    "\n"
   ]
  },
  {
   "cell_type": "code",
   "execution_count": 148,
   "id": "bb24dc1b",
   "metadata": {},
   "outputs": [
    {
     "name": "stdout",
     "output_type": "stream",
     "text": [
      "{'user1': {'password_hash': b'$2b$12$3ZM9GPL9AE2HLjYemn4zVueDm75.XJTw9FoaBvztcFO9XAhEam9Ci'}, 'user2': {'password_hash': b'$2b$12$zWaV3o7i.wUWvshBSXgFY.xHSOyFSsOHo.UThyRV7XCyAztko2KAa'}}\n"
     ]
    }
   ],
   "source": [
    "import bcrypt\n",
    "user_data = {\n",
    "    \"user1\": {\n",
    "        \"password_hash\": bcrypt.hashpw(b\"password1\", bcrypt.gensalt())\n",
    "    },\n",
    "    \"user2\": {\n",
    "        \"password_hash\": bcrypt.hashpw(b\"password2\", bcrypt.gensalt())\n",
    "    }\n",
    "}\n",
    "\n",
    "print(user_data)"
   ]
  },
  {
   "cell_type": "code",
   "execution_count": 154,
   "id": "998784e6",
   "metadata": {},
   "outputs": [
    {
     "name": "stdout",
     "output_type": "stream",
     "text": [
      "{'admin': b'$2b$12$EtIUbiy6DUxTW4aWWuOIe.g/fZEp9ara.E8Y9OxizEXa8WyjcrnOy', 'user1': b'$2b$12$5ShCF8.oUxHMLI6zArb4K.oj.9fjTkczBk9sE6vfXx/Z3.lIDEdWe', 'user2': b'$2b$12$zNuo3yxpa6QBbXMHr.RxyeId.LvJcdDSiH7qSZd2u4AXe86nj1gTW'}\n"
     ]
    }
   ],
   "source": [
    "user_data = dict()\n",
    "for user in ['admin', 'user1', 'user2']:\n",
    "    user_data[user] = bcrypt.hashpw(b\"password\", bcrypt.gensalt())\n",
    "    \n",
    "print(user_data)"
   ]
  },
  {
   "cell_type": "code",
   "execution_count": 152,
   "id": "40012305",
   "metadata": {},
   "outputs": [
    {
     "data": {
      "text/plain": [
       "True"
      ]
     },
     "execution_count": 152,
     "metadata": {},
     "output_type": "execute_result"
    }
   ],
   "source": [
    "stored_hash = user_data['user1'][\"password_hash\"]\n",
    "bcrypt.checkpw(password.encode('utf-8'), stored_hash)"
   ]
  },
  {
   "cell_type": "code",
   "execution_count": 69,
   "id": "332bd764",
   "metadata": {},
   "outputs": [
    {
     "data": {
      "text/plain": [
       "'OK'"
      ]
     },
     "execution_count": 69,
     "metadata": {},
     "output_type": "execute_result"
    }
   ],
   "source": [
    "import easygui\n",
    "\n",
    "easygui.msgbox(\"This is a message!\", title=\"simple gui\")"
   ]
  },
  {
   "cell_type": "code",
   "execution_count": 155,
   "id": "d7b0542b",
   "metadata": {},
   "outputs": [
    {
     "name": "stdout",
     "output_type": "stream",
     "text": [
      "Collecting dash_bootstrap_components\n",
      "  Obtaining dependency information for dash_bootstrap_components from https://files.pythonhosted.org/packages/fc/c9/ad461b6cc3adc570507fa77aafd090aafa95ebb9ce0265e5515e83e566d1/dash_bootstrap_components-1.4.2-py3-none-any.whl.metadata\n",
      "  Downloading dash_bootstrap_components-1.4.2-py3-none-any.whl.metadata (5.2 kB)\n",
      "Requirement already satisfied: dash>=2.0.0 in /home/matt/conda/envs/CRUD/lib/python3.11/site-packages (from dash_bootstrap_components) (2.7.0)\n",
      "Requirement already satisfied: Flask>=1.0.4 in /home/matt/conda/envs/CRUD/lib/python3.11/site-packages (from dash>=2.0.0->dash_bootstrap_components) (2.2.2)\n",
      "Requirement already satisfied: plotly>=5.0.0 in /home/matt/conda/envs/CRUD/lib/python3.11/site-packages (from dash>=2.0.0->dash_bootstrap_components) (5.9.0)\n",
      "Requirement already satisfied: Werkzeug>=2.2.2 in /home/matt/conda/envs/CRUD/lib/python3.11/site-packages (from Flask>=1.0.4->dash>=2.0.0->dash_bootstrap_components) (2.2.3)\n",
      "Requirement already satisfied: Jinja2>=3.0 in /home/matt/conda/envs/CRUD/lib/python3.11/site-packages (from Flask>=1.0.4->dash>=2.0.0->dash_bootstrap_components) (3.1.2)\n",
      "Requirement already satisfied: itsdangerous>=2.0 in /home/matt/conda/envs/CRUD/lib/python3.11/site-packages (from Flask>=1.0.4->dash>=2.0.0->dash_bootstrap_components) (2.0.1)\n",
      "Requirement already satisfied: click>=8.0 in /home/matt/conda/envs/CRUD/lib/python3.11/site-packages (from Flask>=1.0.4->dash>=2.0.0->dash_bootstrap_components) (8.0.4)\n",
      "Requirement already satisfied: tenacity>=6.2.0 in /home/matt/conda/envs/CRUD/lib/python3.11/site-packages (from plotly>=5.0.0->dash>=2.0.0->dash_bootstrap_components) (8.2.2)\n",
      "Requirement already satisfied: MarkupSafe>=2.0 in /home/matt/conda/envs/CRUD/lib/python3.11/site-packages (from Jinja2>=3.0->Flask>=1.0.4->dash>=2.0.0->dash_bootstrap_components) (2.1.1)\n",
      "Downloading dash_bootstrap_components-1.4.2-py3-none-any.whl (220 kB)\n",
      "\u001b[2K   \u001b[90m━━━━━━━━━━━━━━━━━━━━━━━━━━━━━━━━━━━━━━━━\u001b[0m \u001b[32m220.6/220.6 kB\u001b[0m \u001b[31m3.6 MB/s\u001b[0m eta \u001b[36m0:00:00\u001b[0m \u001b[36m0:00:01\u001b[0m\n",
      "\u001b[?25hInstalling collected packages: dash_bootstrap_components\n",
      "Successfully installed dash_bootstrap_components-1.4.2\n"
     ]
    }
   ],
   "source": [
    "!pip install dash_bootstrap_components"
   ]
  },
  {
   "cell_type": "code",
   "execution_count": 7,
   "id": "34e4ca38",
   "metadata": {},
   "outputs": [
    {
     "ename": "InvalidId",
     "evalue": "'id1' is not a valid ObjectId, it must be a 12-byte input or a 24-character hex string",
     "output_type": "error",
     "traceback": [
      "\u001b[0;31m---------------------------------------------------------------------------\u001b[0m",
      "\u001b[0;31mInvalidId\u001b[0m                                 Traceback (most recent call last)",
      "Cell \u001b[0;32mIn[7], line 7\u001b[0m\n\u001b[1;32m      1\u001b[0m array_of_dicts \u001b[38;5;241m=\u001b[39m [\n\u001b[1;32m      2\u001b[0m     {\u001b[38;5;124m'\u001b[39m\u001b[38;5;124m_id\u001b[39m\u001b[38;5;124m'\u001b[39m: \u001b[38;5;124m'\u001b[39m\u001b[38;5;124mid1\u001b[39m\u001b[38;5;124m'\u001b[39m, \u001b[38;5;124m'\u001b[39m\u001b[38;5;124mfield1\u001b[39m\u001b[38;5;124m'\u001b[39m: \u001b[38;5;124m'\u001b[39m\u001b[38;5;124mvalue1\u001b[39m\u001b[38;5;124m'\u001b[39m},\n\u001b[1;32m      3\u001b[0m     {\u001b[38;5;124m'\u001b[39m\u001b[38;5;124m_id\u001b[39m\u001b[38;5;124m'\u001b[39m: \u001b[38;5;124m'\u001b[39m\u001b[38;5;124mid2\u001b[39m\u001b[38;5;124m'\u001b[39m, \u001b[38;5;124m'\u001b[39m\u001b[38;5;124mfield1\u001b[39m\u001b[38;5;124m'\u001b[39m: \u001b[38;5;124m'\u001b[39m\u001b[38;5;124mvalue2\u001b[39m\u001b[38;5;124m'\u001b[39m},\n\u001b[1;32m      4\u001b[0m     {\u001b[38;5;124m'\u001b[39m\u001b[38;5;124m_id\u001b[39m\u001b[38;5;124m'\u001b[39m: \u001b[38;5;124m'\u001b[39m\u001b[38;5;124mid3\u001b[39m\u001b[38;5;124m'\u001b[39m, \u001b[38;5;124m'\u001b[39m\u001b[38;5;124mfield1\u001b[39m\u001b[38;5;124m'\u001b[39m: \u001b[38;5;124m'\u001b[39m\u001b[38;5;124mvalue3\u001b[39m\u001b[38;5;124m'\u001b[39m}\n\u001b[1;32m      5\u001b[0m ]\n\u001b[0;32m----> 7\u001b[0m [ObjectId(doc[\u001b[38;5;124m'\u001b[39m\u001b[38;5;124m_id\u001b[39m\u001b[38;5;124m'\u001b[39m]) \u001b[38;5;28;01mfor\u001b[39;00m doc \u001b[38;5;129;01min\u001b[39;00m array_of_dicts]\n",
      "Cell \u001b[0;32mIn[7], line 7\u001b[0m, in \u001b[0;36m<listcomp>\u001b[0;34m(.0)\u001b[0m\n\u001b[1;32m      1\u001b[0m array_of_dicts \u001b[38;5;241m=\u001b[39m [\n\u001b[1;32m      2\u001b[0m     {\u001b[38;5;124m'\u001b[39m\u001b[38;5;124m_id\u001b[39m\u001b[38;5;124m'\u001b[39m: \u001b[38;5;124m'\u001b[39m\u001b[38;5;124mid1\u001b[39m\u001b[38;5;124m'\u001b[39m, \u001b[38;5;124m'\u001b[39m\u001b[38;5;124mfield1\u001b[39m\u001b[38;5;124m'\u001b[39m: \u001b[38;5;124m'\u001b[39m\u001b[38;5;124mvalue1\u001b[39m\u001b[38;5;124m'\u001b[39m},\n\u001b[1;32m      3\u001b[0m     {\u001b[38;5;124m'\u001b[39m\u001b[38;5;124m_id\u001b[39m\u001b[38;5;124m'\u001b[39m: \u001b[38;5;124m'\u001b[39m\u001b[38;5;124mid2\u001b[39m\u001b[38;5;124m'\u001b[39m, \u001b[38;5;124m'\u001b[39m\u001b[38;5;124mfield1\u001b[39m\u001b[38;5;124m'\u001b[39m: \u001b[38;5;124m'\u001b[39m\u001b[38;5;124mvalue2\u001b[39m\u001b[38;5;124m'\u001b[39m},\n\u001b[1;32m      4\u001b[0m     {\u001b[38;5;124m'\u001b[39m\u001b[38;5;124m_id\u001b[39m\u001b[38;5;124m'\u001b[39m: \u001b[38;5;124m'\u001b[39m\u001b[38;5;124mid3\u001b[39m\u001b[38;5;124m'\u001b[39m, \u001b[38;5;124m'\u001b[39m\u001b[38;5;124mfield1\u001b[39m\u001b[38;5;124m'\u001b[39m: \u001b[38;5;124m'\u001b[39m\u001b[38;5;124mvalue3\u001b[39m\u001b[38;5;124m'\u001b[39m}\n\u001b[1;32m      5\u001b[0m ]\n\u001b[0;32m----> 7\u001b[0m [ObjectId(doc[\u001b[38;5;124m'\u001b[39m\u001b[38;5;124m_id\u001b[39m\u001b[38;5;124m'\u001b[39m]) \u001b[38;5;28;01mfor\u001b[39;00m doc \u001b[38;5;129;01min\u001b[39;00m array_of_dicts]\n",
      "File \u001b[0;32m~/conda/envs/CRUD/lib/python3.11/site-packages/bson/objectid.py:110\u001b[0m, in \u001b[0;36mObjectId.__init__\u001b[0;34m(self, oid)\u001b[0m\n\u001b[1;32m    108\u001b[0m     \u001b[38;5;28mself\u001b[39m\u001b[38;5;241m.\u001b[39m__id \u001b[38;5;241m=\u001b[39m oid\n\u001b[1;32m    109\u001b[0m \u001b[38;5;28;01melse\u001b[39;00m:\n\u001b[0;32m--> 110\u001b[0m     \u001b[38;5;28mself\u001b[39m\u001b[38;5;241m.\u001b[39m__validate(oid)\n",
      "File \u001b[0;32m~/conda/envs/CRUD/lib/python3.11/site-packages/bson/objectid.py:213\u001b[0m, in \u001b[0;36mObjectId.__validate\u001b[0;34m(self, oid)\u001b[0m\n\u001b[1;32m    211\u001b[0m             _raise_invalid_id(oid)\n\u001b[1;32m    212\u001b[0m     \u001b[38;5;28;01melse\u001b[39;00m:\n\u001b[0;32m--> 213\u001b[0m         _raise_invalid_id(oid)\n\u001b[1;32m    214\u001b[0m \u001b[38;5;28;01melse\u001b[39;00m:\n\u001b[1;32m    215\u001b[0m     \u001b[38;5;28;01mraise\u001b[39;00m \u001b[38;5;167;01mTypeError\u001b[39;00m(\u001b[38;5;124m\"\u001b[39m\u001b[38;5;124mid must be an instance of (bytes, \u001b[39m\u001b[38;5;132;01m%s\u001b[39;00m\u001b[38;5;124m, ObjectId), \u001b[39m\u001b[38;5;124m\"\u001b[39m\n\u001b[1;32m    216\u001b[0m                     \u001b[38;5;124m\"\u001b[39m\u001b[38;5;124mnot \u001b[39m\u001b[38;5;132;01m%s\u001b[39;00m\u001b[38;5;124m\"\u001b[39m \u001b[38;5;241m%\u001b[39m (text_type\u001b[38;5;241m.\u001b[39m\u001b[38;5;18m__name__\u001b[39m, \u001b[38;5;28mtype\u001b[39m(oid)))\n",
      "File \u001b[0;32m~/conda/envs/CRUD/lib/python3.11/site-packages/bson/objectid.py:38\u001b[0m, in \u001b[0;36m_raise_invalid_id\u001b[0;34m(oid)\u001b[0m\n\u001b[1;32m     37\u001b[0m \u001b[38;5;28;01mdef\u001b[39;00m \u001b[38;5;21m_raise_invalid_id\u001b[39m(oid):\n\u001b[0;32m---> 38\u001b[0m     \u001b[38;5;28;01mraise\u001b[39;00m InvalidId(\n\u001b[1;32m     39\u001b[0m         \u001b[38;5;124m\"\u001b[39m\u001b[38;5;132;01m%r\u001b[39;00m\u001b[38;5;124m is not a valid ObjectId, it must be a 12-byte input\u001b[39m\u001b[38;5;124m\"\u001b[39m\n\u001b[1;32m     40\u001b[0m         \u001b[38;5;124m\"\u001b[39m\u001b[38;5;124m or a 24-character hex string\u001b[39m\u001b[38;5;124m\"\u001b[39m \u001b[38;5;241m%\u001b[39m oid)\n",
      "\u001b[0;31mInvalidId\u001b[0m: 'id1' is not a valid ObjectId, it must be a 12-byte input or a 24-character hex string"
     ]
    }
   ],
   "source": [
    "array_of_dicts = [\n",
    "    {'_id': 'id1', 'field1': 'value1'},\n",
    "    {'_id': 'id2', 'field1': 'value2'},\n",
    "    {'_id': 'id3', 'field1': 'value3'}\n",
    "]\n",
    "\n",
    "[ObjectId(doc['_id']) for doc in array_of_dicts]"
   ]
  }
 ],
 "metadata": {
  "kernelspec": {
   "display_name": "Python 3 (ipykernel)",
   "language": "python",
   "name": "python3"
  },
  "language_info": {
   "codemirror_mode": {
    "name": "ipython",
    "version": 3
   },
   "file_extension": ".py",
   "mimetype": "text/x-python",
   "name": "python",
   "nbconvert_exporter": "python",
   "pygments_lexer": "ipython3",
   "version": "3.11.4"
  }
 },
 "nbformat": 4,
 "nbformat_minor": 5
}
